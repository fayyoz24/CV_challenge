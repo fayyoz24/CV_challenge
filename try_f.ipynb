{
 "cells": [
  {
   "cell_type": "code",
   "execution_count": null,
   "metadata": {},
   "outputs": [],
   "source": []
  }
 ],
 "metadata": {
  "interpreter": {
   "hash": "827edffe690404515b6a18f1b388d577182abed0bb90f2cd050f513ed9c7727d"
  },
  "kernelspec": {
   "display_name": "Python 3.9.7 ('openCV')",
   "language": "python",
   "name": "python3"
  },
  "language_info": {
   "name": "python",
   "version": "3.9.7"
  },
  "orig_nbformat": 4
 },
 "nbformat": 4,
 "nbformat_minor": 2
}
